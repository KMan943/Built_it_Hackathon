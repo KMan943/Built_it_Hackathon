{
  "nbformat": 4,
  "nbformat_minor": 0,
  "metadata": {
    "colab": {
      "provenance": []
    },
    "kernelspec": {
      "name": "python3",
      "display_name": "Python 3"
    },
    "language_info": {
      "name": "python"
    }
  },
  "cells": [
    {
      "cell_type": "code",
      "source": [
        "import smtplib\n",
        "import datetime\n",
        "import pytz\n",
        "from email.mime.text import MIMEText\n",
        "import time\n",
        "import os\n",
        "import json\n",
        "import threading\n",
        "from IPython.display import Audio, display\n"
      ],
      "metadata": {
        "id": "CcufPOF7ejPR"
      },
      "execution_count": 39,
      "outputs": []
    },
    {
      "cell_type": "code",
      "source": [
        "REMINDERS_FILE = \"reminders.json\"\n",
        "SENDER_EMAIL = \" \" #your email\n",
        "EMERGENCY_EMAIL_Healthcare = \" \" #healthcentre's Email\n",
        "EMERGENCY_EMAIL_Fire = \" \"#fire's Email\n",
        "EMERGENCY_EMAIL_Guard = \" \"#guard's Email\n",
        "PASSWORD = \" \" # APP password '16 digit pin'\n",
        "os.system('wget -O reminder_sound.mp3 https://cdn.pixabay.com/download/audio/2022/03/15/audio_8cb749d484.mp3')"
      ],
      "metadata": {
        "colab": {
          "base_uri": "https://localhost:8080/"
        },
        "id": "gOOJ-ly0el1l",
        "outputId": "12c00ea7-72e4-490a-f16e-d30dd3dbc22c"
      },
      "execution_count": 40,
      "outputs": [
        {
          "output_type": "execute_result",
          "data": {
            "text/plain": [
              "0"
            ]
          },
          "metadata": {},
          "execution_count": 40
        }
      ]
    },
    {
      "cell_type": "code",
      "source": [
        "\n",
        "def get_indian_time():\n",
        "    \"\"\"Get current date and time in Indian timezone (IST)\"\"\"\n",
        "    return datetime.datetime.now(pytz.timezone('Asia/Kolkata'))\n",
        "\n"
      ],
      "metadata": {
        "id": "IwnGKWl2en0e"
      },
      "execution_count": 41,
      "outputs": []
    },
    {
      "cell_type": "code",
      "source": [
        "def send_reminder_email(recipient_email, event_datetime, event_name):\n",
        "    \"\"\"Sends a reminder email to the specified recipient.\"\"\"\n",
        "    event_date_str = event_datetime.strftime(\"%A, %B %d, %Y at %I:%M %p\")\n",
        "    subject = f\"Reminder: {event_name} tomorrow\"\n",
        "    message = f\"\"\"\n",
        "Hello,\n",
        "\n",
        "This is a friendly reminder that you have \"{event_name}\" scheduled for tomorrow, {event_date_str}.\n",
        "\n",
        "Don't forget!\n",
        "\n",
        "Best regards,\n",
        "Your Reminder Service\n",
        "\"\"\"\n",
        "    msg = MIMEText(message)\n",
        "    msg['Subject'], msg['From'], msg['To'] = subject, SENDER_EMAIL, recipient_email\n",
        "\n",
        "    try:\n",
        "        with smtplib.SMTP_SSL('smtp.gmail.com', 465) as server:\n",
        "            server.login(SENDER_EMAIL, PASSWORD)\n",
        "            server.sendmail(SENDER_EMAIL, recipient_email, msg.as_string())\n",
        "        print(f\"Reminder email sent to {recipient_email}\")\n",
        "        return True\n",
        "    except Exception as e:\n",
        "        print(f\"Failed to send email: {e}\")\n",
        "        return False"
      ],
      "metadata": {
        "id": "IIPlBO81enot"
      },
      "execution_count": 42,
      "outputs": []
    },
    {
      "cell_type": "code",
      "source": [
        "def send_audio_notification(event_name, event_datetime):\n",
        "    \"\"\"Plays a longer audio notification for a reminder.\"\"\"\n",
        "    event_date_str = event_datetime.strftime(\"%A, %B %d, %Y at %I:%M %p\")\n",
        "\n",
        "    # Play the downloaded alarm sound (15 seconds)\n",
        "    display(Audio(\"reminder_sound.mp3\", autoplay=True))\n",
        "\n",
        "    print(f\"⏰ REMINDER ALERT ⏰\")\n",
        "    print(f\"Event: {event_name}\")\n",
        "    print(f\"Date: {event_date_str}\")\n",
        "    print(f\"Don't forget this important event!\")\n",
        "    return True"
      ],
      "metadata": {
        "id": "bd2c7UPzeniC"
      },
      "execution_count": 43,
      "outputs": []
    },
    {
      "cell_type": "code",
      "source": [
        "def save_reminders(reminders):\n",
        "    \"\"\"Save reminders to file\"\"\"\n",
        "    serializable_reminders = [{**r, 'event_datetime': r['event_datetime'].isoformat(),\n",
        "                               'reminder_datetime': r['reminder_datetime'].isoformat()} for r in reminders]\n",
        "    with open(REMINDERS_FILE, 'w') as f:\n",
        "        json.dump(serializable_reminders, f)"
      ],
      "metadata": {
        "id": "ObeZny5DevJY"
      },
      "execution_count": 44,
      "outputs": []
    },
    {
      "cell_type": "code",
      "source": [
        "def load_reminders():\n",
        "    \"\"\"Load saved reminders from file\"\"\"\n",
        "    if not os.path.exists(REMINDERS_FILE):\n",
        "        return []\n",
        "    try:\n",
        "        with open(REMINDERS_FILE, 'r') as f:\n",
        "            reminders = json.load(f)\n",
        "        for r in reminders:\n",
        "            r['event_datetime'] = datetime.datetime.fromisoformat(r['event_datetime'])\n",
        "            r['reminder_datetime'] = datetime.datetime.fromisoformat(r['reminder_datetime'])\n",
        "        return reminders\n",
        "    except:\n",
        "        return []"
      ],
      "metadata": {
        "id": "RNk8J_Q6eyHu"
      },
      "execution_count": 45,
      "outputs": []
    },
    {
      "cell_type": "code",
      "source": [
        "def check_date(event_datetime, reminder_datetime):\n",
        "    current_time = get_indian_time()\n",
        "\n",
        "    if event_datetime <= current_time:\n",
        "        return False, \"Event date has already passed.\"\n",
        "    elif reminder_datetime <= current_time:\n",
        "        return False, \"Reminder time has already passed.\"\n",
        "    else:\n",
        "        return True, \"Date and time are valid.\""
      ],
      "metadata": {
        "id": "hqrk0I0hD4dR"
      },
      "execution_count": 46,
      "outputs": []
    },
    {
      "cell_type": "code",
      "source": [
        "def add_reminder(user_email, event_name, event_datetime):\n",
        "    \"\"\"Add a new reminder to the system.\"\"\"\n",
        "    time_before = input(\"Enter hours and minutes before event (format: hours:minutes): \")\n",
        "    hours_before, minutes_before = map(int, time_before.split(':'))\n",
        "\n",
        "    total_minutes = (hours_before * 60) + minutes_before\n",
        "    reminder_datetime = event_datetime - datetime.timedelta(minutes=total_minutes)\n",
        "\n",
        "    is_valid, message = check_date(event_datetime, reminder_datetime)\n",
        "    if not is_valid:\n",
        "        print(message)\n",
        "        return\n",
        "\n",
        "    reminder = {\n",
        "        'user_email': user_email,\n",
        "        'event_name': event_name,\n",
        "        'event_datetime': event_datetime,\n",
        "        'reminder_datetime': reminder_datetime,\n",
        "        'sent': False\n",
        "    }\n",
        "    audio_reminder = {\n",
        "        'user_email': user_email,\n",
        "        'event_name': event_name,\n",
        "        'event_datetime': event_datetime,\n",
        "        'reminder_datetime': event_datetime - datetime.timedelta(minutes=2),\n",
        "        'sent': False,\n",
        "        'method': 'audio'\n",
        "    }\n",
        "\n",
        "    reminders = load_reminders()\n",
        "    reminders.append(reminder)\n",
        "    reminders.append(audio_reminder)\n",
        "    save_reminders(reminders)\n",
        "\n",
        "    print(f\"Reminder added for {event_name} on {event_datetime.strftime('%Y-%m-%d %H:%M')} IST\")\n",
        "    print(f\"Email reminder will be sent on {reminder_datetime.strftime('%Y-%m-%d %H:%M')} IST\")\n",
        "    print(f\"Audio alert will ring 2 minutes before the event\")"
      ],
      "metadata": {
        "id": "Uw1Y2Ua-eyDI"
      },
      "execution_count": 47,
      "outputs": []
    },
    {
      "cell_type": "code",
      "source": [
        "def check_reminders():\n",
        "    \"\"\"Check for reminders that need to be sent\"\"\"\n",
        "    current_time = get_indian_time()\n",
        "    reminders = load_reminders()\n",
        "    updated = False\n",
        "\n",
        "    for reminder in reminders:\n",
        "        if not reminder['sent'] and current_time >= reminder['reminder_datetime']:\n",
        "            print(f\"Sending reminder for {reminder['event_name']}...\")\n",
        "\n",
        "            if reminder.get('method') == 'audio':\n",
        "                if send_audio_notification(reminder['event_name'], reminder['event_datetime']):\n",
        "                    reminder['sent'] = True\n",
        "                    updated = True\n",
        "            else:\n",
        "                if send_reminder_email(reminder['user_email'], reminder['event_datetime'], reminder['event_name']):\n",
        "                    reminder['sent'] = True\n",
        "                    updated = True\n",
        "\n",
        "    if updated:\n",
        "        save_reminders(reminders)"
      ],
      "metadata": {
        "id": "Q0YbKZ9pex_-"
      },
      "execution_count": 48,
      "outputs": []
    },
    {
      "cell_type": "code",
      "source": [
        "def Fetch_live_location:\n",
        "  return Live_location"
      ],
      "metadata": {
        "colab": {
          "base_uri": "https://localhost:8080/",
          "height": 105
        },
        "id": "V5NRceeLDp-S",
        "outputId": "32a7d486-431d-4f34-b5e5-965dd4fc6752"
      },
      "execution_count": 49,
      "outputs": [
        {
          "output_type": "error",
          "ename": "SyntaxError",
          "evalue": "expected '(' (<ipython-input-49-56bd62372212>, line 1)",
          "traceback": [
            "\u001b[0;36m  File \u001b[0;32m\"<ipython-input-49-56bd62372212>\"\u001b[0;36m, line \u001b[0;32m1\u001b[0m\n\u001b[0;31m    def Fetch_live_location:\u001b[0m\n\u001b[0m                           ^\u001b[0m\n\u001b[0;31mSyntaxError\u001b[0m\u001b[0;31m:\u001b[0m expected '('\n"
          ]
        }
      ]
    },
    {
      "cell_type": "code",
      "source": [
        "Live_location = \"   fill me🥲.  \" #fill this part\n",
        "def Emergency_special(EMERGENCY_EMAIL, event_datetime,):\n",
        "    event_date_str = event_datetime.strftime(\"%A, %B %d, %Y at %I:%M %p\")\n",
        "    subject = \"Emergency Emergency!\"\n",
        "    message = f\"\"\"\n",
        "Hello,\n",
        "\n",
        "This is an Emergency in the campus at {Live_location}\n",
        "Your Reminder Service\n",
        "\"\"\"\n",
        "    msg = MIMEText(message)\n",
        "    msg['Subject'], msg['From'], msg['To'] = subject, SENDER_EMAIL, EMERGENCY_EMAIL\n",
        "\n",
        "    try:\n",
        "        with smtplib.SMTP_SSL('smtp.gmail.com', 465) as server:\n",
        "            server.login(SENDER_EMAIL, PASSWORD)\n",
        "            server.sendmail(SENDER_EMAIL, EMERGENCY_EMAIL, msg.as_string())\n",
        "        print(f\"Emergency mail email sent to {EMERGENCY_EMAIL}\")\n",
        "        return True\n",
        "    except Exception as e:\n",
        "        print(f\"Failed to send email: {e}\")"
      ],
      "metadata": {
        "id": "aL1oBiVoA9T1"
      },
      "execution_count": 50,
      "outputs": []
    },
    {
      "cell_type": "code",
      "source": [
        "def reminder_checker():\n",
        "    \"\"\"Function to continuously check reminders\"\"\"\n",
        "    while True:\n",
        "        check_reminders()\n",
        "        time.sleep(60) # Check every minute\n",
        "\n",
        "# Start automatic reminder checker in a background thread\n",
        "checker_thread = threading.Thread(target=reminder_checker, daemon=True)\n",
        "checker_thread.start()\n",
        "print(\" Incase of Emergency don't fill email just press Enter for faster services\")\n",
        "# Interactive part\n",
        "user_email = input(\"Enter your email address: \")\n",
        "print(\"Automatic reminder checking is now running in the background.\")\n",
        "print(\"Reminders will be checked every minute.\")\n",
        "\n",
        "while True:\n",
        "    print(\"\\nReminder System Menu:\")\n",
        "    print(\"1. Add a reminder\")\n",
        "    print(\"2. Emergency\")\n",
        "    print(\"3. Exit\")\n",
        "    choice = input(\"Enter your choice (1-2-3): \")\n",
        "\n",
        "    if choice == '1':\n",
        "        event_name = input(\"Enter event name: \")\n",
        "        event_date_str = input(\"Enter event date (YYYY-MM-DD): \")\n",
        "        event_time_str = input(\"Enter event time (HH:MM): \")\n",
        "\n",
        "        try:\n",
        "            naive_datetime = datetime.datetime.strptime(f\"{event_date_str} {event_time_str}\", \"%Y-%m-%d %H:%M\")\n",
        "            event_datetime = pytz.timezone('Asia/Kolkata').localize(naive_datetime)\n",
        "            add_reminder(user_email, event_name, event_datetime)\n",
        "        except ValueError:\n",
        "            print(\"Invalid date or time format. Please try again.\")\n",
        "\n",
        "    elif choice == '2':\n",
        "        choose = input(\"What is your emergency related to? \\n if health type :1 \\n if Fire type :2 \\n if Guard type :3.\")\n",
        "        if choose == '1':\n",
        "            EMERGENCY_EMAIL = EMERGENCY_EMAIL_Healthcare\n",
        "        elif choose == '2':\n",
        "            EMERGENCY_EMAIL = EMERGENCY_EMAIL_Fire\n",
        "        elif choose == '3':\n",
        "            EMERGENCY_EMAIL = EMERGENCY_EMAIL_Guard\n",
        "        else:\n",
        "            print(\"Invalid choice. Please try again.\")\n",
        "\n",
        "        event_name = \"Emergency\"\n",
        "        event_datetime = datetime.datetime.now(pytz.timezone('Asia/Kolkata'))\n",
        "        event_date_str = event_datetime.strftime(\"%Y-%m-%d %H:%M\")\n",
        "        naive_datetime = datetime.datetime.strptime(f\"{event_date_str}\", \"%Y-%m-%d %H:%M\")\n",
        "        event_datetime = pytz.timezone('Asia/Kolkata').localize(naive_datetime)\n",
        "        Emergency_special(EMERGENCY_EMAIL, event_datetime)\n",
        "\n",
        "    elif choice == '3':\n",
        "        print(\"Exiting reminder system.\")\n",
        "        break\n",
        "\n",
        "    else:\n",
        "        print(\"Invalid choice. Please try again.\")\n"
      ],
      "metadata": {
        "colab": {
          "base_uri": "https://localhost:8080/",
          "height": 503
        },
        "id": "GSQU0MDF8myW",
        "outputId": "0a9a9709-c9ec-4755-ca80-766a951b1456"
      },
      "execution_count": 63,
      "outputs": [
        {
          "name": "stdout",
          "output_type": "stream",
          "text": [
            "Enter your email address: \n",
            "Automatic reminder checking is now running in the background.\n",
            "Reminders will be checked every minute.\n",
            "\n",
            "Reminder System Menu:\n",
            "1. Add a reminder\n",
            "2. Emergency\n",
            "3. Exit\n",
            "Enter your choice (1-2-3): 2\n"
          ]
        },
        {
          "output_type": "error",
          "ename": "KeyboardInterrupt",
          "evalue": "Interrupted by user",
          "traceback": [
            "\u001b[0;31m---------------------------------------------------------------------------\u001b[0m",
            "\u001b[0;31mKeyboardInterrupt\u001b[0m                         Traceback (most recent call last)",
            "\u001b[0;32m<ipython-input-63-8b57fb0ea5ee>\u001b[0m in \u001b[0;36m<cell line: 0>\u001b[0;34m()\u001b[0m\n\u001b[1;32m     34\u001b[0m \u001b[0;34m\u001b[0m\u001b[0m\n\u001b[1;32m     35\u001b[0m     \u001b[0;32melif\u001b[0m \u001b[0mchoice\u001b[0m \u001b[0;34m==\u001b[0m \u001b[0;34m'2'\u001b[0m\u001b[0;34m:\u001b[0m\u001b[0;34m\u001b[0m\u001b[0;34m\u001b[0m\u001b[0m\n\u001b[0;32m---> 36\u001b[0;31m         \u001b[0mchoose\u001b[0m \u001b[0;34m=\u001b[0m \u001b[0minput\u001b[0m\u001b[0;34m(\u001b[0m\u001b[0;34m\"What is your emergency related to? \\n if health type :1 \\n if Fire type :2 \\n if Guard type :3.\"\u001b[0m\u001b[0;34m)\u001b[0m\u001b[0;34m\u001b[0m\u001b[0;34m\u001b[0m\u001b[0m\n\u001b[0m\u001b[1;32m     37\u001b[0m         \u001b[0;32mif\u001b[0m \u001b[0mchoose\u001b[0m \u001b[0;34m==\u001b[0m \u001b[0;34m'1'\u001b[0m\u001b[0;34m:\u001b[0m\u001b[0;34m\u001b[0m\u001b[0;34m\u001b[0m\u001b[0m\n\u001b[1;32m     38\u001b[0m             \u001b[0mEMERGENCY_EMAIL\u001b[0m \u001b[0;34m=\u001b[0m \u001b[0mEMERGENCY_EMAIL_Healthcare\u001b[0m\u001b[0;34m\u001b[0m\u001b[0;34m\u001b[0m\u001b[0m\n",
            "\u001b[0;32m/usr/local/lib/python3.11/dist-packages/ipykernel/kernelbase.py\u001b[0m in \u001b[0;36mraw_input\u001b[0;34m(self, prompt)\u001b[0m\n\u001b[1;32m   1175\u001b[0m                 \u001b[0;34m\"raw_input was called, but this frontend does not support input requests.\"\u001b[0m\u001b[0;34m\u001b[0m\u001b[0;34m\u001b[0m\u001b[0m\n\u001b[1;32m   1176\u001b[0m             )\n\u001b[0;32m-> 1177\u001b[0;31m         return self._input_request(\n\u001b[0m\u001b[1;32m   1178\u001b[0m             \u001b[0mstr\u001b[0m\u001b[0;34m(\u001b[0m\u001b[0mprompt\u001b[0m\u001b[0;34m)\u001b[0m\u001b[0;34m,\u001b[0m\u001b[0;34m\u001b[0m\u001b[0;34m\u001b[0m\u001b[0m\n\u001b[1;32m   1179\u001b[0m             \u001b[0mself\u001b[0m\u001b[0;34m.\u001b[0m\u001b[0m_parent_ident\u001b[0m\u001b[0;34m[\u001b[0m\u001b[0;34m\"shell\"\u001b[0m\u001b[0;34m]\u001b[0m\u001b[0;34m,\u001b[0m\u001b[0;34m\u001b[0m\u001b[0;34m\u001b[0m\u001b[0m\n",
            "\u001b[0;32m/usr/local/lib/python3.11/dist-packages/ipykernel/kernelbase.py\u001b[0m in \u001b[0;36m_input_request\u001b[0;34m(self, prompt, ident, parent, password)\u001b[0m\n\u001b[1;32m   1217\u001b[0m             \u001b[0;32mexcept\u001b[0m \u001b[0mKeyboardInterrupt\u001b[0m\u001b[0;34m:\u001b[0m\u001b[0;34m\u001b[0m\u001b[0;34m\u001b[0m\u001b[0m\n\u001b[1;32m   1218\u001b[0m                 \u001b[0;31m# re-raise KeyboardInterrupt, to truncate traceback\u001b[0m\u001b[0;34m\u001b[0m\u001b[0;34m\u001b[0m\u001b[0m\n\u001b[0;32m-> 1219\u001b[0;31m                 \u001b[0;32mraise\u001b[0m \u001b[0mKeyboardInterrupt\u001b[0m\u001b[0;34m(\u001b[0m\u001b[0;34m\"Interrupted by user\"\u001b[0m\u001b[0;34m)\u001b[0m \u001b[0;32mfrom\u001b[0m \u001b[0;32mNone\u001b[0m\u001b[0;34m\u001b[0m\u001b[0;34m\u001b[0m\u001b[0m\n\u001b[0m\u001b[1;32m   1220\u001b[0m             \u001b[0;32mexcept\u001b[0m \u001b[0mException\u001b[0m\u001b[0;34m:\u001b[0m\u001b[0;34m\u001b[0m\u001b[0;34m\u001b[0m\u001b[0m\n\u001b[1;32m   1221\u001b[0m                 \u001b[0mself\u001b[0m\u001b[0;34m.\u001b[0m\u001b[0mlog\u001b[0m\u001b[0;34m.\u001b[0m\u001b[0mwarning\u001b[0m\u001b[0;34m(\u001b[0m\u001b[0;34m\"Invalid Message:\"\u001b[0m\u001b[0;34m,\u001b[0m \u001b[0mexc_info\u001b[0m\u001b[0;34m=\u001b[0m\u001b[0;32mTrue\u001b[0m\u001b[0;34m)\u001b[0m\u001b[0;34m\u001b[0m\u001b[0;34m\u001b[0m\u001b[0m\n",
            "\u001b[0;31mKeyboardInterrupt\u001b[0m: Interrupted by user"
          ]
        }
      ]
    },
    {
      "cell_type": "code",
      "source": [],
      "metadata": {
        "id": "SMP3ZTXr-R_z",
        "colab": {
          "base_uri": "https://localhost:8080/"
        },
        "outputId": "4cc159b4-cb90-4ee9-c80d-99f1119f68ff"
      },
      "execution_count": 3,
      "outputs": [
        {
          "output_type": "execute_result",
          "data": {
            "text/plain": [
              "datetime.datetime(2025, 3, 21, 14, 39, 32, 71215, tzinfo=<DstTzInfo 'Asia/Kolkata' IST+5:30:00 STD>)"
            ]
          },
          "metadata": {},
          "execution_count": 3
        }
      ]
    },
    {
      "cell_type": "code",
      "source": [],
      "metadata": {
        "id": "mfhbgtHbV5oy"
      },
      "execution_count": null,
      "outputs": []
    }
  ]
}